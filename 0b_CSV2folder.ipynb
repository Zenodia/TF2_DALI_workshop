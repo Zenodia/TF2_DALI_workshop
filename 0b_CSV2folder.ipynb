{
 "cells": [
  {
   "cell_type": "markdown",
   "metadata": {},
   "source": [
    "# ===> you do **NOT** need to go through this notebook if you are using your own dataset  !!!"
   ]
  },
  {
   "cell_type": "markdown",
   "metadata": {},
   "source": [
    "## readCSV file and then write into **raw** folder with sub_folder with sub_folder name corresponding to it's class label name\n",
    "## this is necessary because DALI requires the data to be saved to a root folder=**raw** and each subfolder "
   ]
  },
  {
   "cell_type": "markdown",
   "metadata": {},
   "source": [
    "## read in the CSV file"
   ]
  },
  {
   "cell_type": "code",
   "execution_count": 1,
   "metadata": {},
   "outputs": [
    {
     "data": {
      "text/plain": [
       "((35887, 1, 48, 48), (35887,))"
      ]
     },
     "execution_count": 1,
     "metadata": {},
     "output_type": "execute_result"
    }
   ],
   "source": [
    "import os \n",
    "import numpy as np\n",
    "import matplotlib.pyplot as plt\n",
    "%matplotlib inline\n",
    "filname='./fer2013.csv'\n",
    "\n",
    "def getData(filname):\n",
    "\t# images are 48x48 = 2304 size vectors\n",
    "\t# N = 35887\n",
    "\tY = []\n",
    "\tX = []\n",
    "\tfirst = True\n",
    "\tfor line in open(filname):\n",
    "\t\tif first:\n",
    "\t\t\tfirst = False\n",
    "\t\telse:\n",
    "\t\t\trow = line.split(',')\n",
    "\t\t\tY.append(int(row[0]))\n",
    "\t\t\tX.append([int(p) for p in row[1].split()])\n",
    "\tX, Y = np.array(X) / 255.0, np.array(Y) # scaling is already done here\n",
    "\tX=X.reshape(35887,1,48,48)\n",
    "\treturn X,Y\n",
    "X,Y=getData(filname)\n",
    "X.shape,Y.shape"
   ]
  },
  {
   "cell_type": "code",
   "execution_count": 2,
   "metadata": {},
   "outputs": [
    {
     "name": "stdout",
     "output_type": "stream",
     "text": [
      "(array([0, 1, 2, 3, 4, 5, 6]), array([4953,  547, 5121, 8989, 6077, 4002, 6198]))\n",
      "[0.138, 0.015, 0.143, 0.25, 0.169, 0.112, 0.173]\n"
     ]
    }
   ],
   "source": [
    "cnt_labels=np.unique(Y, return_counts=True)\n",
    "print(cnt_labels)\n",
    "print([round(k,3) for k in cnt_labels[1]/len(Y)])"
   ]
  },
  {
   "cell_type": "markdown",
   "metadata": {},
   "source": [
    "## make directory if it does not exist yet"
   ]
  },
  {
   "cell_type": "code",
   "execution_count": 4,
   "metadata": {},
   "outputs": [
    {
     "name": "stdout",
     "output_type": "stream",
     "text": [
      "./raw/Anger\n",
      "./raw/Disgust\n",
      "./raw/Fear\n",
      "./raw/Happy\n",
      "./raw/Neutral\n",
      "./raw/Sad\n",
      "./raw/Surprise\n"
     ]
    },
    {
     "data": {
      "text/plain": [
       "['Sad', 'Fear', 'Happy', 'Disgust', 'Anger', 'Neutral', 'Surprise']"
      ]
     },
     "execution_count": 4,
     "metadata": {},
     "output_type": "execute_result"
    }
   ],
   "source": [
    "label_map = {0:'Anger', 1:'Disgust',2:'Fear', 3:'Happy',4: 'Neutral', 5:'Sad', 6:'Surprise'}\n",
    "os.makedirs('./raw',exist_ok=True)\n",
    "for i in range(7):\n",
    "    temp='./raw/'+label_map[i]\n",
    "    #print(temp)\n",
    "    os.makedirs(temp,exist_ok=True)\n",
    "os.listdir('./raw')"
   ]
  },
  {
   "cell_type": "markdown",
   "metadata": {},
   "source": [
    "## write individual image into it's own class sub_folder"
   ]
  },
  {
   "cell_type": "code",
   "execution_count": 13,
   "metadata": {},
   "outputs": [
    {
     "name": "stdout",
     "output_type": "stream",
     "text": [
      "processing complete !\n"
     ]
    },
    {
     "data": {
      "text/plain": [
       "<Figure size 288x288 with 0 Axes>"
      ]
     },
     "metadata": {},
     "output_type": "display_data"
    }
   ],
   "source": [
    "X=np.squeeze(X)\n",
    "import random\n",
    "label_map = {0:'Anger', 1:'Disgust',2:'Fear', 3:'Happy',4: 'Neutral', 5:'Sad', 6:'Surprise'}\n",
    "fig=plt.figure(figsize=(4,4))\n",
    "for i in range(len(X)):\n",
    "    img=X[i]\n",
    "    img=np.squeeze(img)\n",
    "    sub_dir=label_map[Y[i]]\n",
    "    \n",
    "    t=\"./raw/{}/{}_{}.png\".format(sub_dir, sub_dir,str(i))\n",
    "    #print(t)\n",
    "    plt.imsave(t,img)\n",
    "print(\"processing complete !\")"
   ]
  },
  {
   "cell_type": "markdown",
   "metadata": {},
   "source": [
    "## this is what the folder structure looks like , and it is what DALI requires"
   ]
  },
  {
   "cell_type": "code",
   "execution_count": 12,
   "metadata": {},
   "outputs": [
    {
     "name": "stdout",
     "output_type": "stream",
     "text": [
      "raw\n",
      "|-raw/Sad\n",
      "  |-Sad_31633.png\n",
      "  |-Sad_11466.png\n",
      "  |-Sad_25035.png\n",
      "  |-Sad_8518.png\n",
      "  |-Sad_29110.png\n",
      "|-raw/Fear\n",
      "  |-Fear_14623.png\n",
      "  |-Fear_32933.png\n",
      "  |-Fear_30727.png\n",
      "  |-Fear_29676.png\n",
      "  |-Fear_389.png\n",
      "|-raw/Happy\n",
      "  |-Happy_4972.png\n",
      "  |-Happy_18649.png\n",
      "  |-Happy_1970.png\n",
      "  |-Happy_22373.png\n",
      "  |-Happy_25902.png\n",
      "|-raw/Disgust\n",
      "  |-Disgust_2795.png\n",
      "  |-Disgust_17852.png\n",
      "  |-Disgust_1661.png\n",
      "  |-Disgust_17771.png\n",
      "  |-Disgust_30252.png\n",
      "|-raw/Anger\n",
      "  |-Anger_25392.png\n",
      "  |-Anger_7284.png\n",
      "  |-Anger_13041.png\n",
      "  |-Anger_4756.png\n",
      "  |-Anger_28128.png\n",
      "|-raw/Neutral\n",
      "  |-Neutral_23432.png\n",
      "  |-Neutral_24351.png\n",
      "  |-Neutral_19016.png\n",
      "  |-Neutral_26975.png\n",
      "  |-Neutral_5435.png\n",
      "|-raw/Surprise\n",
      "  |-Surprise_3681.png\n",
      "  |-Surprise_1948.png\n",
      "  |-Surprise_23233.png\n",
      "  |-Surprise_30530.png\n",
      "  |-Surprise_30238.png\n"
     ]
    }
   ],
   "source": [
    "from __future__ import print_function\n",
    "import os.path\n",
    "import fnmatch\n",
    "\n",
    "for root, dir ,files in os.walk(\"raw\"):\n",
    "    depth = root.count('/')\n",
    "    ret = \"\"\n",
    "    if depth >0 :\n",
    "        ret += \" \" * (depth -1) + \"|-\"\n",
    "    print( ret + root )\n",
    "    examples_to_show=0\n",
    "    for items in fnmatch.filter (files, \"*\"):\n",
    "        if examples_to_show <5 :\n",
    "            print(\" \" * len(ret)+ \"|-\" + items)\n",
    "            examples_to_show +=1"
   ]
  },
  {
   "cell_type": "code",
   "execution_count": null,
   "metadata": {},
   "outputs": [],
   "source": []
  }
 ],
 "metadata": {
  "kernelspec": {
   "display_name": "Python 3",
   "language": "python",
   "name": "python3"
  },
  "language_info": {
   "codemirror_mode": {
    "name": "ipython",
    "version": 3
   },
   "file_extension": ".py",
   "mimetype": "text/x-python",
   "name": "python",
   "nbconvert_exporter": "python",
   "pygments_lexer": "ipython3",
   "version": "3.6.9"
  }
 },
 "nbformat": 4,
 "nbformat_minor": 4
}
