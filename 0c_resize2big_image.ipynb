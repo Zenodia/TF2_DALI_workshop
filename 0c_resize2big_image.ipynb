{
 "cells": [
  {
   "cell_type": "markdown",
   "metadata": {},
   "source": [
    "# ===> you do **NOT** need to go through this notebook if you are using your own dataset  !!!\n",
    "## since this dataset's image is tiny, need to re-work to 2525x2525x3 and again saved to a root folder=Data and it's subfolder \n",
    "## also we need to construct a director file = bigimgs_path.txt as best practice \n"
   ]
  },
  {
   "cell_type": "code",
   "execution_count": 1,
   "metadata": {},
   "outputs": [
    {
     "name": "stdout",
     "output_type": "stream",
     "text": [
      "process complete!\n"
     ]
    }
   ],
   "source": [
    "\n",
    "import os\n",
    "import numpy as np\n",
    "import cv2\n",
    "num2label={0:'Anger', 1:'Disgust',2:'Fear', 3:'Happy',4: 'Neutral', 5:'Sad', 6:'Surprise'}\n",
    "\n",
    "label2num=dict([(b,a) for a,b in num2label.items()])\n",
    "\n",
    "##### Since it is for demo purpose, i dont want to use all 7 classes, so i group them into these 3 categories = ['Happy','notHappy','others'] as my new classs labels\n",
    "imO='/workspace/raw/' \n",
    "\n",
    "class_dir=os.listdir(imO)\n",
    "### compose the directory file bigimgs_path.txt \n",
    "with open(\"/workspace/bigimgs_path.txt\", \"w\") as f1:\n",
    "    nothappy=0 # I only wanna take 100 of each so i keep count\n",
    "    happy=0  # I only wanna take 100 of each so i keep count\n",
    "    others=0   # I only wanna take 100 of each so i keep count\n",
    "    \n",
    "    for lb in class_dir:\n",
    "        im_ls=os.listdir(imO+lb)\n",
    "        for im_name in im_ls:\n",
    "            #print(im_name)\n",
    "            if os.path.exists(imO+lb+'/'+im_name):\n",
    "                im=cv2.imread(imO+lb+'/'+im_name)\n",
    "                im=cv2.resize(im,(2525,2525))\n",
    "                \n",
    "                if lb in ['Anger','Disgust','Fear','Surprise','Sad'] and nothappy<=99:                    \n",
    "                    os.makedirs('/workspace/Data/notHappy',exist_ok=True)\n",
    "                    cv2.imwrite('/workspace/Data/notHappy/'+'nothappy_{}.png'.format(str(nothappy)),im)\n",
    "                    f1.write('%-1s\\n' % ('/workspace/Data/notHappy/'+'nothappy_{}.png {}'.format(str(nothappy),str(0))))\n",
    "                    nothappy+=1\n",
    "                    \n",
    "                elif lb in ['Happy'] and happy<=99 :\n",
    "                    os.makedirs('/workspace/Data/Happy',exist_ok=True)\n",
    "                    cv2.imwrite('/workspace/Data/Happy/'+'Happy_{}.png'.format(str(happy)),im)\n",
    "                    f1.write('%-1s\\n' % ('/workspace/Data/Happy/'+'Happy_{}.png {}'.format(str(happy),str(1))))\n",
    "                    happy+=1\n",
    "                elif lb in ['Neutral'] and others<=99:\n",
    "                    os.makedirs('/workspace/Data/others',exist_ok=True)\n",
    "                    cv2.imwrite('/workspace/Data/others/'+'others_{}.png'.format(str(others)),im)\n",
    "                    f1.write('%-1s\\n' % ('/workspace/Data/others/'+'others_{}.png {}'.format(str(others),str(2))))\n",
    "                    others+=1\n",
    "print(\"process complete!\")               \n",
    "                             \n",
    "                "
   ]
  },
  {
   "cell_type": "markdown",
   "metadata": {},
   "source": [
    "### since we do not need the **raw** data anymore, we can simple delete it and it's subfolders to save some disk space"
   ]
  },
  {
   "cell_type": "code",
   "execution_count": 2,
   "metadata": {},
   "outputs": [],
   "source": [
    "!rm -fr ./raw*"
   ]
  }
 ],
 "metadata": {
  "kernelspec": {
   "display_name": "Python 3",
   "language": "python",
   "name": "python3"
  },
  "language_info": {
   "codemirror_mode": {
    "name": "ipython",
    "version": 3
   },
   "file_extension": ".py",
   "mimetype": "text/x-python",
   "name": "python",
   "nbconvert_exporter": "python",
   "pygments_lexer": "ipython3",
   "version": "3.6.9"
  }
 },
 "nbformat": 4,
 "nbformat_minor": 4
}
