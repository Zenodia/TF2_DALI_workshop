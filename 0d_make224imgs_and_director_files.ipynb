{
 "cells": [
  {
   "cell_type": "markdown",
   "metadata": {},
   "source": [
    "# ===> you do **NOT** need to go through this notebook if you are using your own dataset  !!!\n",
    "## rework to 224x224x3 and save to a root folder=small and it's subfolder in order to run 3b_TF2_small.ipynb \n",
    "## also we need to construct a corresponding director file = smallimgs_path.txt as best practice\n",
    "## note : one can also save the **augmented** data via **2_DALIs_augmentation_showcase.ipynb** notebook instead, since we are doing demo, so i simplify it!\n"
   ]
  },
  {
   "cell_type": "code",
   "execution_count": 3,
   "metadata": {},
   "outputs": [],
   "source": [
    "\n",
    "import os\n",
    "import numpy as np\n",
    "import cv2\n",
    "num2label={'notHappy':0,'Happy':1,'others':2}\n",
    "\n",
    "label2num=dict([(b,a) for a,b in num2label.items()])\n",
    "['Happy','notHappy','others']\n",
    "\n",
    "imO='/workspace/Data/'\n",
    "\n",
    "class_dir=os.listdir(imO)\n",
    "\n",
    "with open(\"/workspace/smallimgs_path.txt\", \"w\") as f1:\n",
    "    for lb in class_dir:\n",
    "        im_ls=os.listdir(imO+lb)\n",
    "        cnt=0\n",
    "        for im_name in im_ls:\n",
    "            #print(im_name)\n",
    "            if os.path.exists(imO+lb+'/'+im_name):\n",
    "                im=cv2.imread(imO+lb+'/'+im_name)\n",
    "                im=cv2.resize(im,(224,224))\n",
    "                os.makedirs('/workspace/small/{}/'.format(lb),exist_ok=True)\n",
    "                cv2.imwrite('/workspace/small/{}/{}_{}.png'.format(lb,lb,str(cnt)),im)\n",
    "                f1.write('%-1s\\n' % ('/workspace/small/{}/{}_{}.png {}'.format(lb,lb,str(cnt), str(num2label[lb]))))\n",
    "                cnt+=1\n",
    "\n",
    "\n",
    "\n",
    "                "
   ]
  },
  {
   "cell_type": "code",
   "execution_count": 6,
   "metadata": {},
   "outputs": [
    {
     "name": "stdout",
     "output_type": "stream",
     "text": [
      "/workspace/small/others/others_90.png 2\n",
      "/workspace/small/others/others_91.png 2\n",
      "/workspace/small/others/others_92.png 2\n",
      "/workspace/small/others/others_93.png 2\n",
      "/workspace/small/others/others_94.png 2\n",
      "/workspace/small/others/others_95.png 2\n",
      "/workspace/small/others/others_96.png 2\n",
      "/workspace/small/others/others_97.png 2\n",
      "/workspace/small/others/others_98.png 2\n",
      "/workspace/small/others/others_99.png 2\n"
     ]
    }
   ],
   "source": [
    "!tail smallimgs_path.txt"
   ]
  }
 ],
 "metadata": {
  "kernelspec": {
   "display_name": "Python 3",
   "language": "python",
   "name": "python3"
  },
  "language_info": {
   "codemirror_mode": {
    "name": "ipython",
    "version": 3
   },
   "file_extension": ".py",
   "mimetype": "text/x-python",
   "name": "python",
   "nbconvert_exporter": "python",
   "pygments_lexer": "ipython3",
   "version": "3.6.9"
  }
 },
 "nbformat": 4,
 "nbformat_minor": 4
}
